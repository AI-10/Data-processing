{
 "cells": [
  {
   "cell_type": "markdown",
   "metadata": {},
   "source": [
    "# 数据获取"
   ]
  },
  {
   "cell_type": "code",
   "execution_count": 3,
   "metadata": {},
   "outputs": [
    {
     "name": "stdout",
     "output_type": "stream",
     "text": [
      "请输入.json文件网址后点击回车http://pheweb.sph.umich.edu/SAIGE-UKB/api/manhattan/pheno/286.1.json\n",
      "请输入文件将要保存位置，如C:\\Users\\DesktopC:\\Users\\acer\\Desktop\n"
     ]
    }
   ],
   "source": [
    "#导入相关库\n",
    "import numpy as np\n",
    "import pandas as pd \n",
    "import requests\n",
    "\n",
    "\n",
    "#请求与整理数据\n",
    "url = input(\"请输入.json文件网址后点击回车\")\n",
    "result = requests.get(url).json()\n",
    "result_variant_bins = pd.DataFrame(result['variant_bins'])\n",
    "result_unbinned_variants = pd.DataFrame(result['unbinned_variants']).sort_values(by = \"peak\")\n",
    "\n",
    "\n",
    "#将两个数据分别输出到一个Excel文件的两个sheet中\n",
    "save_locate = input(\"请输入文件将要保存位置，如C:\\\\Users\\\\Desktop\")\n",
    "with pd.ExcelWriter(r\"%s\\result.xlsx\"%(save_locate)) as writer:\n",
    "    result_variant_bins.to_excel(writer,sheet_name = \"result_variant_bins\")\n",
    "    result_unbinned_variants.to_excel(writer,sheet_name =\"result_unbinned_variants\")"
   ]
  },
  {
   "cell_type": "code",
   "execution_count": null,
   "metadata": {},
   "outputs": [],
   "source": []
  }
 ],
 "metadata": {
  "kernelspec": {
   "display_name": "Python 3",
   "language": "python",
   "name": "python3"
  },
  "language_info": {
   "codemirror_mode": {
    "name": "ipython",
    "version": 3
   },
   "file_extension": ".py",
   "mimetype": "text/x-python",
   "name": "python",
   "nbconvert_exporter": "python",
   "pygments_lexer": "ipython3",
   "version": "3.7.4"
  }
 },
 "nbformat": 4,
 "nbformat_minor": 2
}
