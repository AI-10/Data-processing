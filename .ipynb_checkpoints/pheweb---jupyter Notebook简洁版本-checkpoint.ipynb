{
 "cells": [
  {
   "cell_type": "markdown",
   "metadata": {},
   "source": [
    "# 数据获取"
   ]
  },
  {
   "cell_type": "code",
   "execution_count": null,
   "metadata": {},
   "outputs": [
    {
     "name": "stdout",
     "output_type": "stream",
     "text": [
      "请输入.json文件网址后点击回车http://pheweb.sph.umich.edu:5000/api/manhattan/pheno/C82.json\n"
     ]
    }
   ],
   "source": [
    "#导入相关库\n",
    "import numpy as np\n",
    "import pandas as pd \n",
    "import requests\n",
    "\n",
    "#下载与整理\n",
    "url = input(\"请输入.json文件网址后点击回车\")\n",
    "result = requests.get(url).json()\n",
    "file_name = url.split(\"/\")[-1].split(\".\")[0]\n",
    "file_name\n",
    "\n",
    "print(len(result),result.keys())\n",
    "result_variant_bins = pd.DataFrame(result['variant_bins'])\n",
    "result_unbinned_variants = pd.DataFrame(result['unbinned_variants']).sort_values(by = \"peak\")\n",
    "\n",
    "#保存数据\n",
    "with pd.ExcelWriter(r\"C:\\Users\\acer\\Desktop\\pheweb-data\\%s.xlsx\"%(file_name)) as writer:\n",
    "    result_variant_bins.to_excel(writer,sheet_name = \"result_variant_bins\")\n",
    "    result_unbinned_variants.to_excel(writer,sheet_name =\"result_unbinned_variants\")"
   ]
  },
  {
   "cell_type": "code",
   "execution_count": null,
   "metadata": {},
   "outputs": [],
   "source": [
    "http://pheweb.sph.umich.edu:5000/api/manhattan/pheno/C82.json"
   ]
  },
  {
   "cell_type": "code",
   "execution_count": null,
   "metadata": {},
   "outputs": [],
   "source": [
    "http://pheweb.sph.umich.edu:5000/api/manhattan/pheno/C83.json"
   ]
  },
  {
   "cell_type": "code",
   "execution_count": null,
   "metadata": {},
   "outputs": [],
   "source": [
    "http://pheweb.sph.umich.edu:5000/api/manhattan/pheno/C85.json"
   ]
  },
  {
   "cell_type": "code",
   "execution_count": null,
   "metadata": {},
   "outputs": [],
   "source": [
    "http://pheweb.sph.umich.edu:5000/api/manhattan/pheno/20002_1448.json"
   ]
  },
  {
   "cell_type": "code",
   "execution_count": null,
   "metadata": {},
   "outputs": [],
   "source": [
    "http://pheweb.sph.umich.edu:5000/api/manhattan/pheno/D50.json"
   ]
  },
  {
   "cell_type": "code",
   "execution_count": null,
   "metadata": {},
   "outputs": [],
   "source": []
  },
  {
   "cell_type": "code",
   "execution_count": null,
   "metadata": {},
   "outputs": [],
   "source": []
  }
 ],
 "metadata": {
  "kernelspec": {
   "display_name": "Python 3",
   "language": "python",
   "name": "python3"
  },
  "language_info": {
   "codemirror_mode": {
    "name": "ipython",
    "version": 3
   },
   "file_extension": ".py",
   "mimetype": "text/x-python",
   "name": "python",
   "nbconvert_exporter": "python",
   "pygments_lexer": "ipython3",
   "version": "3.7.4"
  }
 },
 "nbformat": 4,
 "nbformat_minor": 2
}
