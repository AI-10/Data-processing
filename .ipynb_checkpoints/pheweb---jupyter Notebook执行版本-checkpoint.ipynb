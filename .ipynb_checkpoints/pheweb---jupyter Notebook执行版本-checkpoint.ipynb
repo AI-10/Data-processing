{
 "cells": [
  {
   "cell_type": "markdown",
   "metadata": {},
   "source": [
    "# pheweb数据获取"
   ]
  },
  {
   "cell_type": "markdown",
   "metadata": {},
   "source": [
    "## pheweb\n",
    "- pheweb网址：http://pheweb.sph.umich.edu/SAIGE-UKB 网站看起来是静态网站，有关数据可以直接在网站上找到，其中表格数据的存储格式为.json文件（格式详解见[JSON教程](https://www.runoob.com/json/json-tutorial.html)）,下面是在网站上找到.json数据文件位置的方法："
   ]
  },
  {
   "cell_type": "markdown",
   "metadata": {},
   "source": [
    "![.json](https://github.com/AI-10/Data-processing/blob/master/picture/1.png)"
   ]
  },
  {
   "cell_type": "markdown",
   "metadata": {},
   "source": [
    "![.json](https://github.com/AI-10/Data-processing/blob/master/picture/2.png)"
   ]
  },
  {
   "cell_type": "markdown",
   "metadata": {},
   "source": [
    "- .json文件的存储方式是键值对，需要进一步整理成Excel或CSV文件，方便查看和处理"
   ]
  },
  {
   "cell_type": "markdown",
   "metadata": {},
   "source": [
    "### 下载与保存"
   ]
  },
  {
   "cell_type": "markdown",
   "metadata": {},
   "source": [
    "- 用Python/jupyter Notebook执行以下代码，按指示输入所需内容即可"
   ]
  },
  {
   "cell_type": "code",
   "execution_count": 1,
   "metadata": {},
   "outputs": [],
   "source": [
    "#导入相关库\n",
    "import numpy as np\n",
    "import pandas as pd \n",
    "import requests"
   ]
  },
  {
   "cell_type": "code",
   "execution_count": 2,
   "metadata": {},
   "outputs": [
    {
     "name": "stdout",
     "output_type": "stream",
     "text": [
      "请输入网址http://pheweb.sph.umich.edu/SAIGE-UKB/api/manhattan/pheno/286.1.json\n"
     ]
    }
   ],
   "source": [
    "#执行代码，输入.json文件网址（见上面图示），requests.get(.).json()请求数据\n",
    "url = input(\"请输入网址\")\n",
    "result = requests.get(url).json()"
   ]
  },
  {
   "cell_type": "code",
   "execution_count": 3,
   "metadata": {},
   "outputs": [
    {
     "name": "stdout",
     "output_type": "stream",
     "text": [
      "2 dict_keys(['variant_bins', 'unbinned_variants'])\n"
     ]
    }
   ],
   "source": [
    "#查看数据长度及基本情况,.json文件的存储方式为键值对，可以看到该数据有两个数据分别是variant_bins，unbinned_variants\n",
    "print(len(result),result.keys())\n",
    "result_variant_bins = pd.DataFrame(result['variant_bins'])\n",
    "result_unbinned_variants = pd.DataFrame(result['unbinned_variants'])"
   ]
  },
  {
   "cell_type": "code",
   "execution_count": 6,
   "metadata": {},
   "outputs": [
    {
     "data": {
      "text/html": [
       "<div>\n",
       "<style scoped>\n",
       "    .dataframe tbody tr th:only-of-type {\n",
       "        vertical-align: middle;\n",
       "    }\n",
       "\n",
       "    .dataframe tbody tr th {\n",
       "        vertical-align: top;\n",
       "    }\n",
       "\n",
       "    .dataframe thead th {\n",
       "        text-align: right;\n",
       "    }\n",
       "</style>\n",
       "<table border=\"1\" class=\"dataframe\">\n",
       "  <thead>\n",
       "    <tr style=\"text-align: right;\">\n",
       "      <th></th>\n",
       "      <th>chrom</th>\n",
       "      <th>qvals</th>\n",
       "      <th>qval_extents</th>\n",
       "      <th>pos</th>\n",
       "    </tr>\n",
       "  </thead>\n",
       "  <tbody>\n",
       "    <tr>\n",
       "      <td>0</td>\n",
       "      <td>1</td>\n",
       "      <td>[4.25, 4.45]</td>\n",
       "      <td>[[0.05, 3.25], [3.45, 3.65], [3.95, 4.05]]</td>\n",
       "      <td>1500000</td>\n",
       "    </tr>\n",
       "    <tr>\n",
       "      <td>1</td>\n",
       "      <td>1</td>\n",
       "      <td>[4.25, 4.45, 4.65]</td>\n",
       "      <td>[[0.05, 3.85]]</td>\n",
       "      <td>4500000</td>\n",
       "    </tr>\n",
       "    <tr>\n",
       "      <td>2</td>\n",
       "      <td>1</td>\n",
       "      <td>[3.85, 4.05, 4.45]</td>\n",
       "      <td>[[0.05, 3.65]]</td>\n",
       "      <td>7500000</td>\n",
       "    </tr>\n",
       "    <tr>\n",
       "      <td>3</td>\n",
       "      <td>1</td>\n",
       "      <td>[4.95]</td>\n",
       "      <td>[[0.05, 3.55]]</td>\n",
       "      <td>10500000</td>\n",
       "    </tr>\n",
       "    <tr>\n",
       "      <td>4</td>\n",
       "      <td>1</td>\n",
       "      <td>[3.85, 4.65]</td>\n",
       "      <td>[[0.05, 3.35], [3.55, 3.65]]</td>\n",
       "      <td>13500000</td>\n",
       "    </tr>\n",
       "  </tbody>\n",
       "</table>\n",
       "</div>"
      ],
      "text/plain": [
       "  chrom               qvals                                qval_extents  \\\n",
       "0     1        [4.25, 4.45]  [[0.05, 3.25], [3.45, 3.65], [3.95, 4.05]]   \n",
       "1     1  [4.25, 4.45, 4.65]                              [[0.05, 3.85]]   \n",
       "2     1  [3.85, 4.05, 4.45]                              [[0.05, 3.65]]   \n",
       "3     1              [4.95]                              [[0.05, 3.55]]   \n",
       "4     1        [3.85, 4.65]                [[0.05, 3.35], [3.55, 3.65]]   \n",
       "\n",
       "        pos  \n",
       "0   1500000  \n",
       "1   4500000  \n",
       "2   7500000  \n",
       "3  10500000  \n",
       "4  13500000  "
      ]
     },
     "execution_count": 6,
     "metadata": {},
     "output_type": "execute_result"
    }
   ],
   "source": [
    "result_variant_bins.head()"
   ]
  },
  {
   "cell_type": "code",
   "execution_count": 7,
   "metadata": {},
   "outputs": [
    {
     "data": {
      "text/html": [
       "<div>\n",
       "<style scoped>\n",
       "    .dataframe tbody tr th:only-of-type {\n",
       "        vertical-align: middle;\n",
       "    }\n",
       "\n",
       "    .dataframe tbody tr th {\n",
       "        vertical-align: top;\n",
       "    }\n",
       "\n",
       "    .dataframe thead th {\n",
       "        text-align: right;\n",
       "    }\n",
       "</style>\n",
       "<table border=\"1\" class=\"dataframe\">\n",
       "  <thead>\n",
       "    <tr style=\"text-align: right;\">\n",
       "      <th></th>\n",
       "      <th>chrom</th>\n",
       "      <th>pos</th>\n",
       "      <th>ref</th>\n",
       "      <th>alt</th>\n",
       "      <th>rsids</th>\n",
       "      <th>nearest_genes</th>\n",
       "      <th>pval</th>\n",
       "      <th>beta</th>\n",
       "      <th>sebeta</th>\n",
       "      <th>af</th>\n",
       "      <th>ac</th>\n",
       "      <th>tstat</th>\n",
       "      <th>num_significant_in_peak</th>\n",
       "      <th>peak</th>\n",
       "    </tr>\n",
       "  </thead>\n",
       "  <tbody>\n",
       "    <tr>\n",
       "      <td>0</td>\n",
       "      <td>1</td>\n",
       "      <td>169519049</td>\n",
       "      <td>T</td>\n",
       "      <td>C</td>\n",
       "      <td>rs6025</td>\n",
       "      <td>F5</td>\n",
       "      <td>6.400000e-173</td>\n",
       "      <td>-10.0</td>\n",
       "      <td>0.37</td>\n",
       "      <td>0.980</td>\n",
       "      <td>794780.0</td>\n",
       "      <td>-1.7</td>\n",
       "      <td>1242.0</td>\n",
       "      <td>True</td>\n",
       "    </tr>\n",
       "    <tr>\n",
       "      <td>1</td>\n",
       "      <td>1</td>\n",
       "      <td>169216412</td>\n",
       "      <td>C</td>\n",
       "      <td>G</td>\n",
       "      <td>rs2040445</td>\n",
       "      <td>NME7</td>\n",
       "      <td>6.600000e-159</td>\n",
       "      <td>-9.6</td>\n",
       "      <td>0.36</td>\n",
       "      <td>0.980</td>\n",
       "      <td>793816.7</td>\n",
       "      <td>-1.6</td>\n",
       "      <td>NaN</td>\n",
       "      <td>NaN</td>\n",
       "    </tr>\n",
       "    <tr>\n",
       "      <td>2</td>\n",
       "      <td>1</td>\n",
       "      <td>169467654</td>\n",
       "      <td>G</td>\n",
       "      <td>A</td>\n",
       "      <td>rs1894692</td>\n",
       "      <td>SLC19A2</td>\n",
       "      <td>3.300000e-158</td>\n",
       "      <td>-10.0</td>\n",
       "      <td>0.38</td>\n",
       "      <td>0.980</td>\n",
       "      <td>795840.8</td>\n",
       "      <td>-1.6</td>\n",
       "      <td>NaN</td>\n",
       "      <td>NaN</td>\n",
       "    </tr>\n",
       "    <tr>\n",
       "      <td>3</td>\n",
       "      <td>1</td>\n",
       "      <td>169208179</td>\n",
       "      <td>C</td>\n",
       "      <td>T</td>\n",
       "      <td>rs2227246</td>\n",
       "      <td>NME7</td>\n",
       "      <td>2.200000e-157</td>\n",
       "      <td>-9.8</td>\n",
       "      <td>0.37</td>\n",
       "      <td>0.980</td>\n",
       "      <td>794656.8</td>\n",
       "      <td>-1.6</td>\n",
       "      <td>NaN</td>\n",
       "      <td>NaN</td>\n",
       "    </tr>\n",
       "    <tr>\n",
       "      <td>4</td>\n",
       "      <td>1</td>\n",
       "      <td>169160458</td>\n",
       "      <td>C</td>\n",
       "      <td>T</td>\n",
       "      <td>rs144737447</td>\n",
       "      <td>NME7</td>\n",
       "      <td>3.300000e-157</td>\n",
       "      <td>9.7</td>\n",
       "      <td>0.36</td>\n",
       "      <td>0.024</td>\n",
       "      <td>19179.1</td>\n",
       "      <td>1.6</td>\n",
       "      <td>NaN</td>\n",
       "      <td>NaN</td>\n",
       "    </tr>\n",
       "  </tbody>\n",
       "</table>\n",
       "</div>"
      ],
      "text/plain": [
       "  chrom        pos ref alt        rsids nearest_genes           pval  beta  \\\n",
       "0     1  169519049   T   C       rs6025            F5  6.400000e-173 -10.0   \n",
       "1     1  169216412   C   G    rs2040445          NME7  6.600000e-159  -9.6   \n",
       "2     1  169467654   G   A    rs1894692       SLC19A2  3.300000e-158 -10.0   \n",
       "3     1  169208179   C   T    rs2227246          NME7  2.200000e-157  -9.8   \n",
       "4     1  169160458   C   T  rs144737447          NME7  3.300000e-157   9.7   \n",
       "\n",
       "   sebeta     af        ac  tstat  num_significant_in_peak  peak  \n",
       "0    0.37  0.980  794780.0   -1.7                   1242.0  True  \n",
       "1    0.36  0.980  793816.7   -1.6                      NaN   NaN  \n",
       "2    0.38  0.980  795840.8   -1.6                      NaN   NaN  \n",
       "3    0.37  0.980  794656.8   -1.6                      NaN   NaN  \n",
       "4    0.36  0.024   19179.1    1.6                      NaN   NaN  "
      ]
     },
     "execution_count": 7,
     "metadata": {},
     "output_type": "execute_result"
    }
   ],
   "source": [
    "result_unbinned_variants.head()"
   ]
  },
  {
   "cell_type": "code",
   "execution_count": 9,
   "metadata": {},
   "outputs": [
    {
     "name": "stdout",
     "output_type": "stream",
     "text": [
      "请输入文件将要保存位置C:\\Users\\acer\\Desktop\n"
     ]
    }
   ],
   "source": [
    "#将两个数据分别输出到一个Excel文件的两个sheet中\n",
    "save_locate = input(\"请输入文件将要保存位置\")\n",
    "with pd.ExcelWriter(r\"%s\\result.xlsx\"%(save_locate)) as writer:\n",
    "    result_variant_bins.to_excel(writer,sheet_name = \"result_variant_bins\")\n",
    "    result_unbinned_variants.to_excel(writer,sheet_name =\"result_unbinned_variants\")"
   ]
  },
  {
   "cell_type": "code",
   "execution_count": 1,
   "metadata": {},
   "outputs": [],
   "source": [
    "#help(result_variant_bins.to_excel)"
   ]
  },
  {
   "cell_type": "markdown",
   "metadata": {},
   "source": [
    "### 关于top hits"
   ]
  },
  {
   "cell_type": "markdown",
   "metadata": {},
   "source": [
    "- 下载的数据实际上是Manhattan图上所示的所有有意义的signal，要找top hits，只需在输出的文件里找peak值为TRUE的数据（excel排序就行）"
   ]
  },
  {
   "cell_type": "code",
   "execution_count": null,
   "metadata": {},
   "outputs": [],
   "source": []
  },
  {
   "cell_type": "code",
   "execution_count": null,
   "metadata": {},
   "outputs": [],
   "source": []
  },
  {
   "cell_type": "code",
   "execution_count": null,
   "metadata": {},
   "outputs": [],
   "source": []
  },
  {
   "cell_type": "code",
   "execution_count": null,
   "metadata": {},
   "outputs": [],
   "source": []
  },
  {
   "cell_type": "code",
   "execution_count": null,
   "metadata": {},
   "outputs": [],
   "source": []
  }
 ],
 "metadata": {
  "kernelspec": {
   "display_name": "Python 3",
   "language": "python",
   "name": "python3"
  },
  "language_info": {
   "codemirror_mode": {
    "name": "ipython",
    "version": 3
   },
   "file_extension": ".py",
   "mimetype": "text/x-python",
   "name": "python",
   "nbconvert_exporter": "python",
   "pygments_lexer": "ipython3",
   "version": "3.7.4"
  }
 },
 "nbformat": 4,
 "nbformat_minor": 2
}
