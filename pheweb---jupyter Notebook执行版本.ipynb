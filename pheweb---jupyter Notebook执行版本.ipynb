{
 "cells": [
  {
   "cell_type": "markdown",
   "metadata": {},
   "source": [
    "# pheweb数据获取"
   ]
  },
  {
   "cell_type": "markdown",
   "metadata": {},
   "source": [
    "## pheweb网站\n",
    "- pheweb网址：http://pheweb.sph.umich.edu/SAIGE-UKB \n",
    "- 网站看起来是静态网站，有关数据都可以直接在网站上找到，其中表格数据的存储格式为[.json文件格式](https://www.runoob.com/json/json-tutorial.html),\n",
    "- 在网站上找到.json数据文件位置的方法请点击：[.json - 知乎 ](https://zhuanlan.zhihu.com/p/139116242)\n",
    "- .json文件的存储方式是键值对，需要进一步整理成Excel或CSV文件，方便查看和处理"
   ]
  },
  {
   "cell_type": "markdown",
   "metadata": {},
   "source": [
    "### 下载与整理"
   ]
  },
  {
   "cell_type": "markdown",
   "metadata": {},
   "source": [
    "#### 注：执行下面的代码需要Python，最好安装anaconda，打开jupyter Notebook执行，省去安装各个库的麻烦 "
   ]
  },
  {
   "cell_type": "markdown",
   "metadata": {},
   "source": [
    "- 用Python/jupyter Notebook执行以下代码，按指示输入所需内容即可"
   ]
  },
  {
   "cell_type": "code",
   "execution_count": 3,
   "metadata": {},
   "outputs": [],
   "source": [
    "#导入相关库\n",
    "import numpy as np\n",
    "import pandas as pd \n",
    "import requests"
   ]
  },
  {
   "cell_type": "code",
   "execution_count": 4,
   "metadata": {},
   "outputs": [
    {
     "name": "stdout",
     "output_type": "stream",
     "text": [
      "请输入.json文件网址后点击回车http://pheweb.sph.umich.edu:5000/api/manhattan/pheno/50.json\n"
     ]
    },
    {
     "data": {
      "text/plain": [
       "'50'"
      ]
     },
     "execution_count": 4,
     "metadata": {},
     "output_type": "execute_result"
    }
   ],
   "source": [
    "#输入.json文件网址，请求数据\n",
    "url = input(\"请输入.json文件网址后点击回车\")\n",
    "result = requests.get(url).json()\n",
    "file_name = url.split(\"/\")[-1].split(\".\")[0]\n",
    "file_name                 "
   ]
  },
  {
   "cell_type": "code",
   "execution_count": 5,
   "metadata": {},
   "outputs": [
    {
     "name": "stdout",
     "output_type": "stream",
     "text": [
      "2 dict_keys(['variant_bins', 'unbinned_variants'])\n"
     ]
    }
   ],
   "source": [
    "#查看数据长度及基本情况,可以看到该数据有两个数据内容，分别是variant_bins，unbinned_variants\n",
    "print(len(result),result.keys())\n",
    "result_variant_bins = pd.DataFrame(result['variant_bins'])\n",
    "result_unbinned_variants = pd.DataFrame(result['unbinned_variants']).sort_values(by = \"peak\")"
   ]
  },
  {
   "cell_type": "code",
   "execution_count": 6,
   "metadata": {},
   "outputs": [
    {
     "data": {
      "text/html": [
       "<div>\n",
       "<style scoped>\n",
       "    .dataframe tbody tr th:only-of-type {\n",
       "        vertical-align: middle;\n",
       "    }\n",
       "\n",
       "    .dataframe tbody tr th {\n",
       "        vertical-align: top;\n",
       "    }\n",
       "\n",
       "    .dataframe thead th {\n",
       "        text-align: right;\n",
       "    }\n",
       "</style>\n",
       "<table border=\"1\" class=\"dataframe\">\n",
       "  <thead>\n",
       "    <tr style=\"text-align: right;\">\n",
       "      <th></th>\n",
       "      <th>chrom</th>\n",
       "      <th>neglog10_pvals</th>\n",
       "      <th>neglog10_pval_extents</th>\n",
       "      <th>pos</th>\n",
       "    </tr>\n",
       "  </thead>\n",
       "  <tbody>\n",
       "    <tr>\n",
       "      <td>0</td>\n",
       "      <td>1</td>\n",
       "      <td>[6.7, 7.1, 8.4, 8.85, 9.3, 9.5, 10.4, 11.2, 11...</td>\n",
       "      <td>[[-0.0, 6.25], [6.35, 6.6], [7.3, 7.45], [7.85...</td>\n",
       "      <td>1500000</td>\n",
       "    </tr>\n",
       "    <tr>\n",
       "      <td>1</td>\n",
       "      <td>1</td>\n",
       "      <td>[4.95, 5.25, 5.55, 5.65]</td>\n",
       "      <td>[[0.0, 4.65], [4.75, 4.85], [5.8, 5.85], [5.95...</td>\n",
       "      <td>4500000</td>\n",
       "    </tr>\n",
       "    <tr>\n",
       "      <td>2</td>\n",
       "      <td>1</td>\n",
       "      <td>[6.95, 7.05, 7.15, 7.25, 7.35, 7.75, 7.9, 8.4,...</td>\n",
       "      <td>[[-0.0, 6.85], [7.5, 7.65], [8.05, 8.1], [8.5,...</td>\n",
       "      <td>7500000</td>\n",
       "    </tr>\n",
       "    <tr>\n",
       "      <td>3</td>\n",
       "      <td>1</td>\n",
       "      <td>[10.75, 11.3, 12.2, 15.3, 16.55, 24.25, 25.7, ...</td>\n",
       "      <td>[[0.0, 6.5], [6.6, 8.4], [8.5, 8.65], [8.75, 8...</td>\n",
       "      <td>10500000</td>\n",
       "    </tr>\n",
       "    <tr>\n",
       "      <td>4</td>\n",
       "      <td>1</td>\n",
       "      <td>[4.0, 4.1, 4.35, 4.75, 4.85, 6.55, 6.75]</td>\n",
       "      <td>[[-0.0, 2.75], [2.85, 2.95], [3.05, 3.7], [3.8...</td>\n",
       "      <td>13500000</td>\n",
       "    </tr>\n",
       "  </tbody>\n",
       "</table>\n",
       "</div>"
      ],
      "text/plain": [
       "  chrom                                     neglog10_pvals  \\\n",
       "0     1  [6.7, 7.1, 8.4, 8.85, 9.3, 9.5, 10.4, 11.2, 11...   \n",
       "1     1                           [4.95, 5.25, 5.55, 5.65]   \n",
       "2     1  [6.95, 7.05, 7.15, 7.25, 7.35, 7.75, 7.9, 8.4,...   \n",
       "3     1  [10.75, 11.3, 12.2, 15.3, 16.55, 24.25, 25.7, ...   \n",
       "4     1           [4.0, 4.1, 4.35, 4.75, 4.85, 6.55, 6.75]   \n",
       "\n",
       "                               neglog10_pval_extents       pos  \n",
       "0  [[-0.0, 6.25], [6.35, 6.6], [7.3, 7.45], [7.85...   1500000  \n",
       "1  [[0.0, 4.65], [4.75, 4.85], [5.8, 5.85], [5.95...   4500000  \n",
       "2  [[-0.0, 6.85], [7.5, 7.65], [8.05, 8.1], [8.5,...   7500000  \n",
       "3  [[0.0, 6.5], [6.6, 8.4], [8.5, 8.65], [8.75, 8...  10500000  \n",
       "4  [[-0.0, 2.75], [2.85, 2.95], [3.05, 3.7], [3.8...  13500000  "
      ]
     },
     "execution_count": 6,
     "metadata": {},
     "output_type": "execute_result"
    }
   ],
   "source": [
    "result_variant_bins.head()"
   ]
  },
  {
   "cell_type": "code",
   "execution_count": 7,
   "metadata": {},
   "outputs": [
    {
     "data": {
      "text/html": [
       "<div>\n",
       "<style scoped>\n",
       "    .dataframe tbody tr th:only-of-type {\n",
       "        vertical-align: middle;\n",
       "    }\n",
       "\n",
       "    .dataframe tbody tr th {\n",
       "        vertical-align: top;\n",
       "    }\n",
       "\n",
       "    .dataframe thead th {\n",
       "        text-align: right;\n",
       "    }\n",
       "</style>\n",
       "<table border=\"1\" class=\"dataframe\">\n",
       "  <thead>\n",
       "    <tr style=\"text-align: right;\">\n",
       "      <th></th>\n",
       "      <th>chrom</th>\n",
       "      <th>pos</th>\n",
       "      <th>ref</th>\n",
       "      <th>alt</th>\n",
       "      <th>rsids</th>\n",
       "      <th>nearest_genes</th>\n",
       "      <th>pval</th>\n",
       "      <th>beta</th>\n",
       "      <th>ac</th>\n",
       "      <th>peak</th>\n",
       "    </tr>\n",
       "  </thead>\n",
       "  <tbody>\n",
       "    <tr>\n",
       "      <td>35</td>\n",
       "      <td>6</td>\n",
       "      <td>130374461</td>\n",
       "      <td>T</td>\n",
       "      <td>A</td>\n",
       "      <td>rs7740107</td>\n",
       "      <td>L3MBTL3</td>\n",
       "      <td>9.600000e-78</td>\n",
       "      <td>-0.036</td>\n",
       "      <td>494902.0</td>\n",
       "      <td>True</td>\n",
       "    </tr>\n",
       "    <tr>\n",
       "      <td>1250</td>\n",
       "      <td>15</td>\n",
       "      <td>84580582</td>\n",
       "      <td>A</td>\n",
       "      <td>C</td>\n",
       "      <td>rs11259936</td>\n",
       "      <td>ADAMTSL3</td>\n",
       "      <td>6.600000e-104</td>\n",
       "      <td>0.037</td>\n",
       "      <td>350626.0</td>\n",
       "      <td>True</td>\n",
       "    </tr>\n",
       "    <tr>\n",
       "      <td>1291</td>\n",
       "      <td>6</td>\n",
       "      <td>26180634</td>\n",
       "      <td>G</td>\n",
       "      <td>C</td>\n",
       "      <td>rs62396185</td>\n",
       "      <td>HIST1H2BE</td>\n",
       "      <td>2.800000e-105</td>\n",
       "      <td>-0.043</td>\n",
       "      <td>172558.0</td>\n",
       "      <td>True</td>\n",
       "    </tr>\n",
       "    <tr>\n",
       "      <td>1365</td>\n",
       "      <td>6</td>\n",
       "      <td>34199092</td>\n",
       "      <td>C</td>\n",
       "      <td>T</td>\n",
       "      <td>rs2780226</td>\n",
       "      <td>HMGA1</td>\n",
       "      <td>7.400000e-109</td>\n",
       "      <td>-0.067</td>\n",
       "      <td>613340.0</td>\n",
       "      <td>True</td>\n",
       "    </tr>\n",
       "    <tr>\n",
       "      <td>1375</td>\n",
       "      <td>1</td>\n",
       "      <td>149906413</td>\n",
       "      <td>T</td>\n",
       "      <td>C</td>\n",
       "      <td>rs11205303</td>\n",
       "      <td>MTMR11</td>\n",
       "      <td>2.200000e-109</td>\n",
       "      <td>0.039</td>\n",
       "      <td>275312.0</td>\n",
       "      <td>True</td>\n",
       "    </tr>\n",
       "  </tbody>\n",
       "</table>\n",
       "</div>"
      ],
      "text/plain": [
       "     chrom        pos ref alt       rsids nearest_genes           pval   beta  \\\n",
       "35       6  130374461   T   A   rs7740107       L3MBTL3   9.600000e-78 -0.036   \n",
       "1250    15   84580582   A   C  rs11259936      ADAMTSL3  6.600000e-104  0.037   \n",
       "1291     6   26180634   G   C  rs62396185     HIST1H2BE  2.800000e-105 -0.043   \n",
       "1365     6   34199092   C   T   rs2780226         HMGA1  7.400000e-109 -0.067   \n",
       "1375     1  149906413   T   C  rs11205303        MTMR11  2.200000e-109  0.039   \n",
       "\n",
       "            ac  peak  \n",
       "35    494902.0  True  \n",
       "1250  350626.0  True  \n",
       "1291  172558.0  True  \n",
       "1365  613340.0  True  \n",
       "1375  275312.0  True  "
      ]
     },
     "execution_count": 7,
     "metadata": {},
     "output_type": "execute_result"
    }
   ],
   "source": [
    "result_unbinned_variants.head()"
   ]
  },
  {
   "cell_type": "code",
   "execution_count": 8,
   "metadata": {},
   "outputs": [
    {
     "name": "stdout",
     "output_type": "stream",
     "text": [
      "请输入文件将要保存的位置，如C:\\Users\\DesktopC:\\Users\\acer\\Desktop\n"
     ]
    }
   ],
   "source": [
    "#将两个数据分别输出到一个Excel文件的两个sheet中\n",
    "save_locate = input(\"请输入文件将要保存的位置，如C:\\\\Users\\\\Desktop\")\n",
    "with pd.ExcelWriter(r\"%s\\%s.xlsx\"%(save_locate,file_name)) as writer:\n",
    "    result_variant_bins.to_excel(writer,sheet_name = \"result_variant_bins\")\n",
    "    result_unbinned_variants.to_excel(writer,sheet_name =\"result_unbinned_variants\")"
   ]
  },
  {
   "cell_type": "code",
   "execution_count": 1,
   "metadata": {},
   "outputs": [],
   "source": [
    "#help(result_variant_bins.to_excel)"
   ]
  },
  {
   "cell_type": "markdown",
   "metadata": {},
   "source": [
    "### 关于top hits"
   ]
  },
  {
   "cell_type": "markdown",
   "metadata": {},
   "source": [
    "- 下载的数据实际上是Manhattan图上所示的所有有意义的signal，要找top hits，只需在输出的文件里找peak值为TRUE的数据（已排序，若未排序，请用excel排序查看）"
   ]
  },
  {
   "cell_type": "code",
   "execution_count": null,
   "metadata": {},
   "outputs": [],
   "source": []
  },
  {
   "cell_type": "code",
   "execution_count": null,
   "metadata": {},
   "outputs": [],
   "source": []
  },
  {
   "cell_type": "code",
   "execution_count": null,
   "metadata": {},
   "outputs": [],
   "source": []
  },
  {
   "cell_type": "code",
   "execution_count": null,
   "metadata": {},
   "outputs": [],
   "source": []
  },
  {
   "cell_type": "code",
   "execution_count": null,
   "metadata": {},
   "outputs": [],
   "source": []
  }
 ],
 "metadata": {
  "kernelspec": {
   "display_name": "Python 3",
   "language": "python",
   "name": "python3"
  },
  "language_info": {
   "codemirror_mode": {
    "name": "ipython",
    "version": 3
   },
   "file_extension": ".py",
   "mimetype": "text/x-python",
   "name": "python",
   "nbconvert_exporter": "python",
   "pygments_lexer": "ipython3",
   "version": "3.7.4"
  }
 },
 "nbformat": 4,
 "nbformat_minor": 2
}
