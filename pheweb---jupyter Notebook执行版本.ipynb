{
 "cells": [
  {
   "cell_type": "markdown",
   "metadata": {},
   "source": [
    "# pheweb数据获取"
   ]
  },
  {
   "cell_type": "markdown",
   "metadata": {},
   "source": [
    "## pheweb网站\n",
    "- pheweb网址：http://pheweb.sph.umich.edu/SAIGE-UKB \n",
    "- 网站看起来是静态网站，有关数据都可以直接在网站上找到，其中表格数据的存储格式为[.json文件格式](https://www.runoob.com/json/json-tutorial.html),\n",
    "- 在网站上找到.json数据文件位置的方法请点击：[.json - 知乎 ](https://zhuanlan.zhihu.com/p/139116242)\n",
    "- .json文件的存储方式是键值对，需要进一步整理成Excel或CSV文件，方便查看和处理"
   ]
  },
  {
   "cell_type": "markdown",
   "metadata": {},
   "source": [
    "### 下载与整理"
   ]
  },
  {
   "cell_type": "markdown",
   "metadata": {},
   "source": [
    "- 用Python/jupyter Notebook执行以下代码，按指示输入所需内容即可"
   ]
  },
  {
   "cell_type": "code",
   "execution_count": 14,
   "metadata": {},
   "outputs": [],
   "source": [
    "#导入相关库\n",
    "import numpy as np\n",
    "import pandas as pd \n",
    "import requests"
   ]
  },
  {
   "cell_type": "code",
   "execution_count": 2,
   "metadata": {},
   "outputs": [
    {
     "name": "stdout",
     "output_type": "stream",
     "text": [
      "请输入.json文件网址http://pheweb.sph.umich.edu/SAIGE-UKB/api/manhattan/pheno/286.1.json\n"
     ]
    }
   ],
   "source": [
    "#输入.json文件网址，请求数据\n",
    "url = input(\"请输入.json文件网址后点击回车\")\n",
    "result = requests.get(url).json()"
   ]
  },
  {
   "cell_type": "code",
   "execution_count": 10,
   "metadata": {},
   "outputs": [
    {
     "name": "stdout",
     "output_type": "stream",
     "text": [
      "2 dict_keys(['variant_bins', 'unbinned_variants'])\n"
     ]
    }
   ],
   "source": [
    "#查看数据长度及基本情况,可以看到该数据有两个数据内容，分别是variant_bins，unbinned_variants\n",
    "print(len(result),result.keys())\n",
    "result_variant_bins = pd.DataFrame(result['variant_bins'])\n",
    "result_unbinned_variants = pd.DataFrame(result['unbinned_variants']).sort_values(by = \"peak\")"
   ]
  },
  {
   "cell_type": "code",
   "execution_count": 11,
   "metadata": {},
   "outputs": [
    {
     "data": {
      "text/html": [
       "<div>\n",
       "<style scoped>\n",
       "    .dataframe tbody tr th:only-of-type {\n",
       "        vertical-align: middle;\n",
       "    }\n",
       "\n",
       "    .dataframe tbody tr th {\n",
       "        vertical-align: top;\n",
       "    }\n",
       "\n",
       "    .dataframe thead th {\n",
       "        text-align: right;\n",
       "    }\n",
       "</style>\n",
       "<table border=\"1\" class=\"dataframe\">\n",
       "  <thead>\n",
       "    <tr style=\"text-align: right;\">\n",
       "      <th></th>\n",
       "      <th>chrom</th>\n",
       "      <th>qvals</th>\n",
       "      <th>qval_extents</th>\n",
       "      <th>pos</th>\n",
       "    </tr>\n",
       "  </thead>\n",
       "  <tbody>\n",
       "    <tr>\n",
       "      <td>0</td>\n",
       "      <td>1</td>\n",
       "      <td>[4.25, 4.45]</td>\n",
       "      <td>[[0.05, 3.25], [3.45, 3.65], [3.95, 4.05]]</td>\n",
       "      <td>1500000</td>\n",
       "    </tr>\n",
       "    <tr>\n",
       "      <td>1</td>\n",
       "      <td>1</td>\n",
       "      <td>[4.25, 4.45, 4.65]</td>\n",
       "      <td>[[0.05, 3.85]]</td>\n",
       "      <td>4500000</td>\n",
       "    </tr>\n",
       "    <tr>\n",
       "      <td>2</td>\n",
       "      <td>1</td>\n",
       "      <td>[3.85, 4.05, 4.45]</td>\n",
       "      <td>[[0.05, 3.65]]</td>\n",
       "      <td>7500000</td>\n",
       "    </tr>\n",
       "    <tr>\n",
       "      <td>3</td>\n",
       "      <td>1</td>\n",
       "      <td>[4.95]</td>\n",
       "      <td>[[0.05, 3.55]]</td>\n",
       "      <td>10500000</td>\n",
       "    </tr>\n",
       "    <tr>\n",
       "      <td>4</td>\n",
       "      <td>1</td>\n",
       "      <td>[3.85, 4.65]</td>\n",
       "      <td>[[0.05, 3.35], [3.55, 3.65]]</td>\n",
       "      <td>13500000</td>\n",
       "    </tr>\n",
       "  </tbody>\n",
       "</table>\n",
       "</div>"
      ],
      "text/plain": [
       "  chrom               qvals                                qval_extents  \\\n",
       "0     1        [4.25, 4.45]  [[0.05, 3.25], [3.45, 3.65], [3.95, 4.05]]   \n",
       "1     1  [4.25, 4.45, 4.65]                              [[0.05, 3.85]]   \n",
       "2     1  [3.85, 4.05, 4.45]                              [[0.05, 3.65]]   \n",
       "3     1              [4.95]                              [[0.05, 3.55]]   \n",
       "4     1        [3.85, 4.65]                [[0.05, 3.35], [3.55, 3.65]]   \n",
       "\n",
       "        pos  \n",
       "0   1500000  \n",
       "1   4500000  \n",
       "2   7500000  \n",
       "3  10500000  \n",
       "4  13500000  "
      ]
     },
     "execution_count": 11,
     "metadata": {},
     "output_type": "execute_result"
    }
   ],
   "source": [
    "result_variant_bins.head()"
   ]
  },
  {
   "cell_type": "code",
   "execution_count": 12,
   "metadata": {},
   "outputs": [
    {
     "data": {
      "text/html": [
       "<div>\n",
       "<style scoped>\n",
       "    .dataframe tbody tr th:only-of-type {\n",
       "        vertical-align: middle;\n",
       "    }\n",
       "\n",
       "    .dataframe tbody tr th {\n",
       "        vertical-align: top;\n",
       "    }\n",
       "\n",
       "    .dataframe thead th {\n",
       "        text-align: right;\n",
       "    }\n",
       "</style>\n",
       "<table border=\"1\" class=\"dataframe\">\n",
       "  <thead>\n",
       "    <tr style=\"text-align: right;\">\n",
       "      <th></th>\n",
       "      <th>chrom</th>\n",
       "      <th>pos</th>\n",
       "      <th>ref</th>\n",
       "      <th>alt</th>\n",
       "      <th>rsids</th>\n",
       "      <th>nearest_genes</th>\n",
       "      <th>pval</th>\n",
       "      <th>beta</th>\n",
       "      <th>sebeta</th>\n",
       "      <th>af</th>\n",
       "      <th>ac</th>\n",
       "      <th>tstat</th>\n",
       "      <th>num_significant_in_peak</th>\n",
       "      <th>peak</th>\n",
       "    </tr>\n",
       "  </thead>\n",
       "  <tbody>\n",
       "    <tr>\n",
       "      <td>0</td>\n",
       "      <td>1</td>\n",
       "      <td>169519049</td>\n",
       "      <td>T</td>\n",
       "      <td>C</td>\n",
       "      <td>rs6025</td>\n",
       "      <td>F5</td>\n",
       "      <td>6.400000e-173</td>\n",
       "      <td>-10.0</td>\n",
       "      <td>0.37</td>\n",
       "      <td>0.980000</td>\n",
       "      <td>794780.0</td>\n",
       "      <td>-1.70</td>\n",
       "      <td>1242.0</td>\n",
       "      <td>True</td>\n",
       "    </tr>\n",
       "    <tr>\n",
       "      <td>501</td>\n",
       "      <td>1</td>\n",
       "      <td>170590770</td>\n",
       "      <td>A</td>\n",
       "      <td>G</td>\n",
       "      <td>rs191436110</td>\n",
       "      <td>PRRX1</td>\n",
       "      <td>3.100000e-08</td>\n",
       "      <td>4.8</td>\n",
       "      <td>0.88</td>\n",
       "      <td>0.003200</td>\n",
       "      <td>2603.8</td>\n",
       "      <td>0.24</td>\n",
       "      <td>1.0</td>\n",
       "      <td>True</td>\n",
       "    </tr>\n",
       "    <tr>\n",
       "      <td>502</td>\n",
       "      <td>3</td>\n",
       "      <td>8579730</td>\n",
       "      <td>G</td>\n",
       "      <td>A</td>\n",
       "      <td>rs151209271</td>\n",
       "      <td>LMCD1</td>\n",
       "      <td>1.300000e-07</td>\n",
       "      <td>77.0</td>\n",
       "      <td>15.00</td>\n",
       "      <td>0.000053</td>\n",
       "      <td>43.1</td>\n",
       "      <td>0.50</td>\n",
       "      <td>0.0</td>\n",
       "      <td>True</td>\n",
       "    </tr>\n",
       "    <tr>\n",
       "      <td>503</td>\n",
       "      <td>16</td>\n",
       "      <td>3459685</td>\n",
       "      <td>G</td>\n",
       "      <td>A</td>\n",
       "      <td>rs534853717</td>\n",
       "      <td>LA16c-306E5.2</td>\n",
       "      <td>2.200000e-07</td>\n",
       "      <td>49.0</td>\n",
       "      <td>9.40</td>\n",
       "      <td>0.000083</td>\n",
       "      <td>67.7</td>\n",
       "      <td>0.47</td>\n",
       "      <td>0.0</td>\n",
       "      <td>True</td>\n",
       "    </tr>\n",
       "    <tr>\n",
       "      <td>504</td>\n",
       "      <td>4</td>\n",
       "      <td>162526332</td>\n",
       "      <td>T</td>\n",
       "      <td>A</td>\n",
       "      <td>rs72687582</td>\n",
       "      <td>FSTL5</td>\n",
       "      <td>2.600000e-07</td>\n",
       "      <td>6.1</td>\n",
       "      <td>1.20</td>\n",
       "      <td>0.001800</td>\n",
       "      <td>1498.7</td>\n",
       "      <td>0.24</td>\n",
       "      <td>0.0</td>\n",
       "      <td>True</td>\n",
       "    </tr>\n",
       "  </tbody>\n",
       "</table>\n",
       "</div>"
      ],
      "text/plain": [
       "    chrom        pos ref alt        rsids  nearest_genes           pval  beta  \\\n",
       "0       1  169519049   T   C       rs6025             F5  6.400000e-173 -10.0   \n",
       "501     1  170590770   A   G  rs191436110          PRRX1   3.100000e-08   4.8   \n",
       "502     3    8579730   G   A  rs151209271          LMCD1   1.300000e-07  77.0   \n",
       "503    16    3459685   G   A  rs534853717  LA16c-306E5.2   2.200000e-07  49.0   \n",
       "504     4  162526332   T   A   rs72687582          FSTL5   2.600000e-07   6.1   \n",
       "\n",
       "     sebeta        af        ac  tstat  num_significant_in_peak  peak  \n",
       "0      0.37  0.980000  794780.0  -1.70                   1242.0  True  \n",
       "501    0.88  0.003200    2603.8   0.24                      1.0  True  \n",
       "502   15.00  0.000053      43.1   0.50                      0.0  True  \n",
       "503    9.40  0.000083      67.7   0.47                      0.0  True  \n",
       "504    1.20  0.001800    1498.7   0.24                      0.0  True  "
      ]
     },
     "execution_count": 12,
     "metadata": {},
     "output_type": "execute_result"
    }
   ],
   "source": [
    "result_unbinned_variants.head()"
   ]
  },
  {
   "cell_type": "code",
   "execution_count": 13,
   "metadata": {},
   "outputs": [
    {
     "name": "stdout",
     "output_type": "stream",
     "text": [
      "请输入文件将要保存位置C:\\Users\\acer\\Desktop\n"
     ]
    }
   ],
   "source": [
    "#将两个数据分别输出到一个Excel文件的两个sheet中\n",
    "save_locate = input(\"请输入文件将要保存位置\")\n",
    "with pd.ExcelWriter(r\"%s\\result.xlsx\"%(save_locate)) as writer:\n",
    "    result_variant_bins.to_excel(writer,sheet_name = \"result_variant_bins\")\n",
    "    result_unbinned_variants.to_excel(writer,sheet_name =\"result_unbinned_variants\")"
   ]
  },
  {
   "cell_type": "code",
   "execution_count": 1,
   "metadata": {},
   "outputs": [],
   "source": [
    "#help(result_variant_bins.to_excel)"
   ]
  },
  {
   "cell_type": "markdown",
   "metadata": {},
   "source": [
    "### 关于top hits"
   ]
  },
  {
   "cell_type": "markdown",
   "metadata": {},
   "source": [
    "- 下载的数据实际上是Manhattan图上所示的所有有意义的signal，要找top hits，只需在输出的文件里找peak值为TRUE的数据（已排序，若未排序，请用excel排序查看）"
   ]
  },
  {
   "cell_type": "code",
   "execution_count": null,
   "metadata": {},
   "outputs": [],
   "source": []
  },
  {
   "cell_type": "code",
   "execution_count": null,
   "metadata": {},
   "outputs": [],
   "source": []
  },
  {
   "cell_type": "code",
   "execution_count": null,
   "metadata": {},
   "outputs": [],
   "source": []
  },
  {
   "cell_type": "code",
   "execution_count": null,
   "metadata": {},
   "outputs": [],
   "source": []
  },
  {
   "cell_type": "code",
   "execution_count": null,
   "metadata": {},
   "outputs": [],
   "source": []
  }
 ],
 "metadata": {
  "kernelspec": {
   "display_name": "Python 3",
   "language": "python",
   "name": "python3"
  },
  "language_info": {
   "codemirror_mode": {
    "name": "ipython",
    "version": 3
   },
   "file_extension": ".py",
   "mimetype": "text/x-python",
   "name": "python",
   "nbconvert_exporter": "python",
   "pygments_lexer": "ipython3",
   "version": "3.7.4"
  }
 },
 "nbformat": 4,
 "nbformat_minor": 2
}
