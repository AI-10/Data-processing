{
 "cells": [
  {
   "cell_type": "markdown",
   "metadata": {},
   "source": [
    "# 数据获取"
   ]
  },
  {
   "cell_type": "code",
   "execution_count": null,
   "metadata": {},
   "outputs": [],
   "source": [
    "#导入相关库\n",
    "import numpy as np\n",
    "import pandas as pd \n",
    "import requests\n",
    "\n",
    "#下载与整理\n",
    "url = input(\"请输入.json文件网址后点击回车\")\n",
    "result = requests.get(url).json()\n",
    "file_name = url.split(\"/\")[-1].split(\".\")[0]\n",
    "file_name\n",
    "\n",
    "print(len(result),result.keys())\n",
    "result_variant_bins = pd.DataFrame(result['variant_bins'])\n",
    "result_unbinned_variants = pd.DataFrame(result['unbinned_variants']).sort_values(by = \"peak\")\n",
    "\n",
    "#保存数据\n",
    "with pd.ExcelWriter(r\"C:\\Users\\acer\\Desktop\\pheweb-data\\%s.xlsx\"%(file_name)) as writer:\n",
    "    result_variant_bins.to_excel(writer,sheet_name = \"result_variant_bins\")\n",
    "    result_unbinned_variants.to_excel(writer,sheet_name =\"result_unbinned_variants\")"
   ]
  },
  {
   "cell_type": "code",
   "execution_count": 2,
   "metadata": {},
   "outputs": [],
   "source": [
    "#导入相关库\n",
    "import numpy as np\n",
    "import pandas as pd \n",
    "import requests"
   ]
  },
  {
   "cell_type": "code",
   "execution_count": 1,
   "metadata": {},
   "outputs": [],
   "source": [
    "a = \"https://data.broadinstitute.org/alkesgroup/FUSION/SUM/\""
   ]
  },
  {
   "cell_type": "code",
   "execution_count": 3,
   "metadata": {},
   "outputs": [],
   "source": [
    "result = requests.get(a)"
   ]
  },
  {
   "cell_type": "code",
   "execution_count": 6,
   "metadata": {},
   "outputs": [
    {
     "name": "stdout",
     "output_type": "stream",
     "text": [
      "<!DOCTYPE HTML PUBLIC \"-//W3C//DTD HTML 3.2 Final//EN\">\n",
      "<html>\n",
      " <head>\n",
      "  <title>Index of /alkesgroup/FUSION/SUM</title>\n",
      " </head>\n",
      " <body>\n",
      "<h1>Index of /alkesgroup/FUSION/SUM</h1>\n",
      "<table><tr><th><img src=\"/icons/blank.gif\" alt=\"[ICO]\"></th><th><a href=\"?C=N;O=D\">Name</a></th><th><a href=\"?C=M;O=A\">Last modified</a></th><th><a href=\"?C=S;O=A\">Size</a></th><th><a href=\"?C=D;O=A\">Description</a></th></tr><tr><th colspan=\"5\"><hr></th></tr>\n",
      "<tr><td valign=\"top\"><img src=\"/icons/back.gif\" alt=\"[DIR]\"></td><td><a href=\"/alkesgroup/FUSION/\">Parent Directory</a></td><td>&nbsp;</td><td align=\"right\">  - </td><td>&nbsp;</td></tr>\n",
      "<tr><td valign=\"top\"><img src=\"/icons/unknown.gif\" alt=\"[   ]\"></td><td><a href=\"PGC2.SCZ.sumstats\">PGC2.SCZ.sumstats</a></td><td align=\"right\">02-Dec-2016 01:07  </td><td align=\"right\"> 53M</td><td>&nbsp;</td></tr>\n",
      "<tr><td valign=\"top\"><img src=\"/icons/compressed.gif\" alt=\"[   ]\"></td><td><a href=\"PGC2.SCZ.sumstats.gz\">PGC2.SCZ.sumstats.gz</a></td><td align=\"right\">02-Dec-2016 01:08  </td><td align=\"right\"> 20M</td><td>&nbsp;</td></tr>\n",
      "<tr><th colspan=\"5\"><hr></th></tr>\n",
      "</table>\n",
      "</body></html>\n",
      "\n"
     ]
    }
   ],
   "source": [
    "print(result.text)"
   ]
  },
  {
   "cell_type": "code",
   "execution_count": null,
   "metadata": {},
   "outputs": [],
   "source": []
  },
  {
   "cell_type": "code",
   "execution_count": null,
   "metadata": {},
   "outputs": [],
   "source": []
  }
 ],
 "metadata": {
  "kernelspec": {
   "display_name": "Python 3",
   "language": "python",
   "name": "python3"
  },
  "language_info": {
   "codemirror_mode": {
    "name": "ipython",
    "version": 3
   },
   "file_extension": ".py",
   "mimetype": "text/x-python",
   "name": "python",
   "nbconvert_exporter": "python",
   "pygments_lexer": "ipython3",
   "version": "3.7.4"
  }
 },
 "nbformat": 4,
 "nbformat_minor": 2
}
